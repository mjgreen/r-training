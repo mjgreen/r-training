{
  "cells": [
    {
      "cell_type": "markdown",
      "metadata": {},
      "source": [
        "# Exercises {.unnumbered}\n",
        "\n",
        "In this section we do some exercises to practice. Each exercise has a solution that is hidden to start with: you can click on the `show the answer` button to reveal the solution, but I recommend that you try to solve each exercise yourself before looking at the solution. In each exercise I give some hints and some references to material in Hadley Wickham's book -- reading this material should help you identify, and understand, functions that you need to solve the exercise.\n",
        "\n",
        "## Start a new Rproject\n",
        "\n",
        "Whenever you start a piece of work in R, make a folder specially for that piece of work, and start an Rproject in that folder.\n",
        "\n",
        "\n",
        "```{md}\n",
        "#| code-fold: true\n",
        "#| code-summary: \"Show the code\"\n",
        "In the top-right where it says \"Project: (None)\" use the dropdown to do \"New Project\"\n",
        "```\n",
        "\n",
        "\n",
        "\n",
        "## Read in data\n",
        "\n",
        "Use the following link to download the data as a spreadsheet: [ldt_data.csv](docs/ldt_data.csv).\n"
      ],
      "id": "33bf9666"
    }
  ],
  "metadata": {
    "kernelspec": {
      "display_name": "Python 3",
      "language": "python",
      "name": "python3"
    }
  },
  "nbformat": 4,
  "nbformat_minor": 5
}